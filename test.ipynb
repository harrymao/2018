{
  "nbformat": 4,
  "nbformat_minor": 0,
  "metadata": {
    "colab": {
      "name": "test.ipynb",
      "version": "0.3.2",
      "provenance": [],
      "include_colab_link": true
    },
    "kernelspec": {
      "name": "python3",
      "display_name": "Python 3"
    }
  },
  "cells": [
    {
      "cell_type": "markdown",
      "metadata": {
        "id": "view-in-github",
        "colab_type": "text"
      },
      "source": [
        "<a href=\"https://colab.research.google.com/github/harrymao/2018/blob/master/test.ipynb\" target=\"_parent\"><img src=\"https://colab.research.google.com/assets/colab-badge.svg\" alt=\"Open In Colab\"/></a>"
      ]
    },
    {
      "cell_type": "code",
      "metadata": {
        "id": "PxaO4KQJ7O6k",
        "colab_type": "code",
        "colab": {
          "base_uri": "https://localhost:8080/",
          "height": 202
        },
        "outputId": "bfb0f246-bad1-4e45-b605-f62b841ae337"
      },
      "source": [
        "import tensorflow as tf\n",
        "import numpy as np\n",
        "\n",
        "x_data=np.random.rand(100).astype(np.float32)\n",
        "y_data= x_data*1 +0.3\n",
        "Weights = tf.Variable(tf.random_uniform([1], -1.0, 1.0))\n",
        "biases = tf.Variable(tf.zeros([1]))\n",
        "\n",
        "y = Weights*x_data + biases\n",
        "loss = tf.reduce_mean(tf.square(y-y_data))\n",
        "optimizer = tf.train.GradientDescentOptimizer(0.5)\n",
        "train = optimizer.minimize(loss)\n",
        "init = tf.initialize_all_variables()\n",
        "##creat tf structure end\n",
        "sess = tf.Session()\n",
        "sess.run(init)\n",
        "for step in range(201):\n",
        "    sess.run(train)\n",
        "    if step %20 == 0:\n",
        "       print(step,sess.run(Weights),sess.run(biases))"
      ],
      "execution_count": 8,
      "outputs": [
        {
          "output_type": "stream",
          "text": [
            "0 [0.44348887] [0.8093857]\n",
            "20 [0.84570193] [0.38098902]\n",
            "40 [0.9631413] [0.31934664]\n",
            "60 [0.9911952] [0.30462152]\n",
            "80 [0.9978967] [0.30110404]\n",
            "100 [0.99949753] [0.30026373]\n",
            "120 [0.99987996] [0.300063]\n",
            "140 [0.99997133] [0.30001506]\n",
            "160 [0.99999315] [0.30000362]\n",
            "180 [0.99999833] [0.30000088]\n",
            "200 [0.9999996] [0.30000022]\n"
          ],
          "name": "stdout"
        }
      ]
    }
  ]
}